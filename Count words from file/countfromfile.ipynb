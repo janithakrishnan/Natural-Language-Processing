{
 "cells": [
  {
   "cell_type": "code",
   "execution_count": null,
   "id": "ec219d0d",
   "metadata": {},
   "outputs": [
    {
     "name": "stdout",
     "output_type": "stream",
     "text": [
      "FILE CONTENT\n",
      " This is a sample file for exercising NLP. \n",
      "These are short, famous texts in English from classic sources like the Bible or Shakespeare. Some texts have word definitions and explanations to help you. Some of these texts are written in an old style of English. Try to understand them, because the English that we speak today is based on what our great, great, great, great grandparents spoke before! Of course, not all these texts were originally written in English. The Bible, for example, is a translation. But they are all well known in English today, and many of them express beautiful thoughts.\n",
      "\n",
      "No:of sentences= 8\n",
      "No:of words= 102\n",
      "No: of main words= 58\n"
     ]
    },
    {
     "name": "stderr",
     "output_type": "stream",
     "text": [
      "[nltk_data] Downloading package punkt to\n",
      "[nltk_data]     /home/sw900b4_janitha/nltk_data...\n",
      "[nltk_data]   Package punkt is already up-to-date!\n",
      "[nltk_data] Downloading package punkt_tab to\n",
      "[nltk_data]     /home/sw900b4_janitha/nltk_data...\n",
      "[nltk_data]   Package punkt_tab is already up-to-date!\n",
      "[nltk_data] Downloading package stopwords to\n",
      "[nltk_data]     /home/sw900b4_janitha/nltk_data...\n",
      "[nltk_data]   Package stopwords is already up-to-date!\n"
     ]
    }
   ],
   "source": [
    "#Reading contents from the file\n",
    "with open ('samplefile.txt','r') as f:\n",
    "    content=f.read()\n",
    "print(\"FILE CONTENT\\n\",content)\n",
    "\n",
    "#Printing no: of sentences\n",
    "import nltk\n",
    "from textblob import TextBlob\n",
    "tbcontent=TextBlob(content)\n",
    "sent=tbcontent.sentences\n",
    "print(\"No:of sentences=\",len(sent))\n",
    "\n",
    "\n",
    "#Printing no: of words\n",
    "import nltk\n",
    "nltk.download('punkt')\n",
    "nltk.download('punkt_tab')\n",
    "\n",
    "tbwords=tbcontent.words\n",
    "print(\"No:of words=\",len(tbwords))\n",
    "\n",
    "#Printing no: of main words (words other than stop words)\n",
    "import nltk\n",
    "nltk.download('stopwords')\n",
    "from nltk.corpus import stopwords\n",
    "stop_words=set(stopwords.words('english'))\n",
    "main_words=[word for word in tbwords if word not in stop_words]\n",
    "print(\"No: of main words=\",len(main_words))"
   ]
  }
 ],
 "metadata": {
  "kernelspec": {
   "display_name": "Python 3",
   "language": "python",
   "name": "python3"
  },
  "language_info": {
   "codemirror_mode": {
    "name": "ipython",
    "version": 3
   },
   "file_extension": ".py",
   "mimetype": "text/x-python",
   "name": "python",
   "nbconvert_exporter": "python",
   "pygments_lexer": "ipython3",
   "version": "3.8.10"
  }
 },
 "nbformat": 4,
 "nbformat_minor": 5
}
