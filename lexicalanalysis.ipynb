{
 "cells": [
  {
   "cell_type": "code",
   "execution_count": null,
   "id": "4d2de9d8",
   "metadata": {},
   "outputs": [
    {
     "name": "stderr",
     "output_type": "stream",
     "text": [
      "[nltk_data] Downloading package wordnet to\n",
      "[nltk_data]     /home/sw900b4_janitha/nltk_data...\n",
      "[nltk_data]   Package wordnet is already up-to-date!\n",
      "[nltk_data] Downloading package omw-1.4 to\n",
      "[nltk_data]     /home/sw900b4_janitha/nltk_data...\n",
      "[nltk_data]   Package omw-1.4 is already up-to-date!\n"
     ]
    },
    {
     "name": "stdout",
     "output_type": "stream",
     "text": [
      "LOWER CASE\n",
      " a grasshopper spent the summer hopping about in the sun and singing to his heart's content. one day, an ant went hurrying by, looking very hot and weary.\n",
      "TEXT WITHOUT PUNCTUATION\n",
      " a grasshopper spent the summer hopping about in the sun and singing to his hearts content one day an ant went hurrying by looking very hot and weary\n",
      "TOKENS\n",
      " ['a', 'grasshopper', 'spent', 'the', 'summer', 'hopping', 'about', 'in', 'the', 'sun', 'and', 'singing', 'to', 'his', 'hearts', 'content', 'one', 'day', 'an', 'ant', 'went', 'hurrying', 'by', 'looking', 'very', 'hot', 'and', 'weary']\n",
      "MAIN WORDS\n",
      " ['grasshopper', 'spent', 'summer', 'hopping', 'sun', 'singing', 'hearts', 'content', 'one', 'day', 'ant', 'went', 'hurrying', 'looking', 'hot', 'weary']\n",
      "LEMMATISING\n",
      " ['grasshopper', 'spent', 'summer', 'hopping', 'sun', 'singing', 'heart', 'content', 'one', 'day', 'ant', 'went', 'hurrying', 'looking', 'hot', 'weary']\n"
     ]
    }
   ],
   "source": [
    "import nltk\n",
    "import re\n",
    "from nltk.tokenize import word_tokenize\n",
    "from nltk.corpus import stopwords\n",
    "from nltk.stem import WordNetLemmatizer\n",
    "\n",
    "stop_words=set(stopwords.words('english'))\n",
    "lemmatizer=WordNetLemmatizer()\n",
    "nltk.download('wordnet')\n",
    "nltk.download('omw-1.4')\n",
    "\n",
    "def clean_text(text):\n",
    "    text_lower=text.lower()\n",
    "    text_no_punct=re.sub(r'[^\\w\\s]','',text_lower)\n",
    "    text_tokens=word_tokenize(text_no_punct)\n",
    "    main_words=[word for word in text_tokens if word not in stop_words]\n",
    "    lemma=[lemmatizer.lemmatize(word,pos='n') for word in main_words] \n",
    "    return text_lower,text_no_punct,text_tokens,main_words,lemma\n",
    "\n",
    "lower,nopunct,tokens,mainwords,lemmas=clean_text(input(\"Enter a paragraph:\"))\n",
    "print(\"LOWER CASE\\n\",lower)\n",
    "print(\"TEXT WITHOUT PUNCTUATION\\n\",nopunct)\n",
    "print(\"TOKENS\\n\",tokens)\n",
    "print(\"MAIN WORDS\\n\",mainwords)\n",
    "print(\"LEMMATISING\\n\",lemmas)\n",
    "\n",
    "    \n",
    "\n",
    "\n",
    "\n"
   ]
  }
 ],
 "metadata": {
  "kernelspec": {
   "display_name": "Python 3",
   "language": "python",
   "name": "python3"
  },
  "language_info": {
   "codemirror_mode": {
    "name": "ipython",
    "version": 3
   },
   "file_extension": ".py",
   "mimetype": "text/x-python",
   "name": "python",
   "nbconvert_exporter": "python",
   "pygments_lexer": "ipython3",
   "version": "3.8.10"
  }
 },
 "nbformat": 4,
 "nbformat_minor": 5
}
